{
 "cells": [
  {
   "cell_type": "markdown",
   "metadata": {},
   "source": [
    "# Basic Hands-on 1: Hand-written image classification with the MNIST data set\n",
    "\n",
    "This session introduces the use of neural networks in a famous classification task: the image classification of hand-written digits from the MNIST data set.\n",
    "\n",
    "The MNIST dataset is a widely used benchmark in the field of machine learning and computer vision. MNIST serves as a standard dataset for evaluating classification algorithms and is commonly used for training and testing various machine learning models, particularly in the context of deep learning. Its simplicity and accessibility make it a popular starting point for those learning about image classification.\n",
    "\n",
    "### What we will learn:\n",
    "\n",
    "1. loading a  data set\n",
    "2. how to build simple neural network\n",
    "3. training a model\n",
    "4. evaluation of the model\n",
    "5. how to make a prediction\n",
    "\n",
    "In this tutorial we will use a simple python environment with the package pytorch. There are other options to implement networks, but will not be discussed in this workshop.\n"
   ]
  },
  {
   "cell_type": "code",
   "execution_count": 2,
   "metadata": {},
   "outputs": [],
   "source": [
    "# load necessary libraries\n",
    "import torch\n",
    "import torch.nn as nn\n",
    "import torch.optim as optim\n",
    "from torchvision import datasets, transforms\n",
    "from torch.utils.data import DataLoader\n",
    "import matplotlib.pyplot as plt\n",
    "import numpy as np\n",
    "\n",
    "# Set device (GPU if available, mps on Mac, else CPU)\n",
    "if torch.cuda.is_available():\n",
    "    device = torch.device(\"cuda\")\n",
    "elif torch.backends.mps.is_available():\n",
    "    device = torch.device(\"mps\")\n",
    "else:\n",
    "    device = torch.device(\"cpu\")"
   ]
  },
  {
   "cell_type": "markdown",
   "metadata": {},
   "source": [
    "### 1. Loading the data set\n",
    "\n",
    "The MNIST data set consists of 70,000 grayscale images of handwritten digits (0-9), with each image being 28x28 pixels in size. The dataset is divided into 60,000 training images and 10,000 test images. A machine learning model (supervised) needs to be trained on known, labeled data to predict class categories. The test set is used to classify and predict the class category of unknown images. Comparing the predictions with the provide class label can tell is how well the model can predicted unknown data from the same dataset.\n",
    "\n",
    "In this example, training and test set are loaded separately. Both are converted into tensors to be readable with pytorch and each pixel entry is normalized.\n",
    "\n",
    "Note: normalization of the data is not necessary, but can fasten the training process because the data is then within the same defined range.\n"
   ]
  },
  {
   "cell_type": "code",
   "execution_count": 3,
   "metadata": {},
   "outputs": [],
   "source": [
    "# Transformations - save images as tensors and normalize\n",
    "transform = transforms.Compose([\n",
    "    transforms.ToTensor(),\n",
    "    transforms.Normalize((0.5,), (0.5,))\n",
    "])\n",
    "\n",
    "# download training and test datasets\n",
    "train_dataset = datasets.MNIST(root='./data', train=True, transform=transform, download=True)\n",
    "test_dataset = datasets.MNIST(root='./data', train=False, transform=transform, download=True)\n",
    "\n",
    "# Create data loaders\n",
    "train_loader = DataLoader(dataset=train_dataset, batch_size=64, shuffle=True)\n",
    "test_loader = DataLoader(dataset=test_dataset, batch_size=64, shuffle=False)"
   ]
  },
  {
   "cell_type": "markdown",
   "metadata": {},
   "source": [
    "The data is loaded in batches. They allow parallel training of the networks later on, and loading data into memory more efficiently. Typical choices are:\n",
    "\n",
    "- Small batch (e.g., 16, 32) → More noise, better generalization, slower convergence.\n",
    "- Medium batch (e.g., 64, 128) → Balanced between speed and stability.\n",
    "- Large batch (e.g., 256, 512, 1024) → Faster but requires more memory, may overfit."
   ]
  },
  {
   "cell_type": "code",
   "execution_count": 4,
   "metadata": {},
   "outputs": [
    {
     "name": "stdout",
     "output_type": "stream",
     "text": [
      "60000\n",
      "(tensor([[[-1.0000, -1.0000, -1.0000, -1.0000, -1.0000, -1.0000, -1.0000,\n",
      "          -1.0000, -1.0000, -1.0000, -1.0000, -1.0000, -1.0000, -1.0000,\n",
      "          -1.0000, -1.0000, -1.0000, -1.0000, -1.0000, -1.0000, -1.0000,\n",
      "          -1.0000, -1.0000, -1.0000, -1.0000, -1.0000, -1.0000, -1.0000],\n",
      "         [-1.0000, -1.0000, -1.0000, -1.0000, -1.0000, -1.0000, -1.0000,\n",
      "          -1.0000, -1.0000, -1.0000, -1.0000, -1.0000, -1.0000, -1.0000,\n",
      "          -1.0000, -1.0000, -1.0000, -1.0000, -1.0000, -1.0000, -1.0000,\n",
      "          -1.0000, -1.0000, -1.0000, -1.0000, -1.0000, -1.0000, -1.0000],\n",
      "         [-1.0000, -1.0000, -1.0000, -1.0000, -1.0000, -1.0000, -1.0000,\n",
      "          -1.0000, -1.0000, -1.0000, -1.0000, -1.0000, -1.0000, -1.0000,\n",
      "          -1.0000, -1.0000, -1.0000, -1.0000, -1.0000, -1.0000, -1.0000,\n",
      "          -1.0000, -1.0000, -1.0000, -1.0000, -1.0000, -1.0000, -1.0000],\n",
      "         [-1.0000, -1.0000, -1.0000, -1.0000, -1.0000, -1.0000, -1.0000,\n",
      "          -1.0000, -1.0000, -1.0000, -1.0000, -1.0000, -1.0000, -1.0000,\n",
      "          -1.0000, -1.0000, -1.0000, -1.0000, -1.0000, -1.0000, -1.0000,\n",
      "          -1.0000, -1.0000, -1.0000, -1.0000, -1.0000, -1.0000, -1.0000],\n",
      "         [-1.0000, -1.0000, -1.0000, -1.0000, -1.0000, -1.0000, -1.0000,\n",
      "          -1.0000, -1.0000, -1.0000, -1.0000, -1.0000, -1.0000, -1.0000,\n",
      "          -1.0000, -1.0000, -1.0000, -1.0000, -1.0000, -1.0000, -1.0000,\n",
      "          -1.0000, -1.0000, -1.0000, -1.0000, -1.0000, -1.0000, -1.0000],\n",
      "         [-1.0000, -1.0000, -1.0000, -1.0000, -1.0000, -1.0000, -1.0000,\n",
      "          -1.0000, -1.0000, -1.0000, -1.0000, -1.0000, -0.9765, -0.8588,\n",
      "          -0.8588, -0.8588, -0.0118,  0.0667,  0.3725, -0.7961,  0.3020,\n",
      "           1.0000,  0.9373, -0.0039, -1.0000, -1.0000, -1.0000, -1.0000],\n",
      "         [-1.0000, -1.0000, -1.0000, -1.0000, -1.0000, -1.0000, -1.0000,\n",
      "          -1.0000, -0.7647, -0.7176, -0.2627,  0.2078,  0.3333,  0.9843,\n",
      "           0.9843,  0.9843,  0.9843,  0.9843,  0.7647,  0.3490,  0.9843,\n",
      "           0.8980,  0.5294, -0.4980, -1.0000, -1.0000, -1.0000, -1.0000],\n",
      "         [-1.0000, -1.0000, -1.0000, -1.0000, -1.0000, -1.0000, -1.0000,\n",
      "          -0.6157,  0.8667,  0.9843,  0.9843,  0.9843,  0.9843,  0.9843,\n",
      "           0.9843,  0.9843,  0.9843,  0.9686, -0.2706, -0.3569, -0.3569,\n",
      "          -0.5608, -0.6941, -1.0000, -1.0000, -1.0000, -1.0000, -1.0000],\n",
      "         [-1.0000, -1.0000, -1.0000, -1.0000, -1.0000, -1.0000, -1.0000,\n",
      "          -0.8588,  0.7176,  0.9843,  0.9843,  0.9843,  0.9843,  0.9843,\n",
      "           0.5529,  0.4275,  0.9373,  0.8902, -1.0000, -1.0000, -1.0000,\n",
      "          -1.0000, -1.0000, -1.0000, -1.0000, -1.0000, -1.0000, -1.0000],\n",
      "         [-1.0000, -1.0000, -1.0000, -1.0000, -1.0000, -1.0000, -1.0000,\n",
      "          -1.0000, -0.3725,  0.2235, -0.1608,  0.9843,  0.9843,  0.6078,\n",
      "          -0.9137, -1.0000, -0.6627,  0.2078, -1.0000, -1.0000, -1.0000,\n",
      "          -1.0000, -1.0000, -1.0000, -1.0000, -1.0000, -1.0000, -1.0000],\n",
      "         [-1.0000, -1.0000, -1.0000, -1.0000, -1.0000, -1.0000, -1.0000,\n",
      "          -1.0000, -1.0000, -0.8902, -0.9922,  0.2078,  0.9843, -0.2941,\n",
      "          -1.0000, -1.0000, -1.0000, -1.0000, -1.0000, -1.0000, -1.0000,\n",
      "          -1.0000, -1.0000, -1.0000, -1.0000, -1.0000, -1.0000, -1.0000],\n",
      "         [-1.0000, -1.0000, -1.0000, -1.0000, -1.0000, -1.0000, -1.0000,\n",
      "          -1.0000, -1.0000, -1.0000, -1.0000,  0.0902,  0.9843,  0.4902,\n",
      "          -0.9843, -1.0000, -1.0000, -1.0000, -1.0000, -1.0000, -1.0000,\n",
      "          -1.0000, -1.0000, -1.0000, -1.0000, -1.0000, -1.0000, -1.0000],\n",
      "         [-1.0000, -1.0000, -1.0000, -1.0000, -1.0000, -1.0000, -1.0000,\n",
      "          -1.0000, -1.0000, -1.0000, -1.0000, -0.9137,  0.4902,  0.9843,\n",
      "          -0.4510, -1.0000, -1.0000, -1.0000, -1.0000, -1.0000, -1.0000,\n",
      "          -1.0000, -1.0000, -1.0000, -1.0000, -1.0000, -1.0000, -1.0000],\n",
      "         [-1.0000, -1.0000, -1.0000, -1.0000, -1.0000, -1.0000, -1.0000,\n",
      "          -1.0000, -1.0000, -1.0000, -1.0000, -1.0000, -0.7255,  0.8902,\n",
      "           0.7647,  0.2549, -0.1529, -0.9922, -1.0000, -1.0000, -1.0000,\n",
      "          -1.0000, -1.0000, -1.0000, -1.0000, -1.0000, -1.0000, -1.0000],\n",
      "         [-1.0000, -1.0000, -1.0000, -1.0000, -1.0000, -1.0000, -1.0000,\n",
      "          -1.0000, -1.0000, -1.0000, -1.0000, -1.0000, -1.0000, -0.3647,\n",
      "           0.8824,  0.9843,  0.9843, -0.0667, -0.8039, -1.0000, -1.0000,\n",
      "          -1.0000, -1.0000, -1.0000, -1.0000, -1.0000, -1.0000, -1.0000],\n",
      "         [-1.0000, -1.0000, -1.0000, -1.0000, -1.0000, -1.0000, -1.0000,\n",
      "          -1.0000, -1.0000, -1.0000, -1.0000, -1.0000, -1.0000, -1.0000,\n",
      "          -0.6471,  0.4588,  0.9843,  0.9843,  0.1765, -0.7882, -1.0000,\n",
      "          -1.0000, -1.0000, -1.0000, -1.0000, -1.0000, -1.0000, -1.0000],\n",
      "         [-1.0000, -1.0000, -1.0000, -1.0000, -1.0000, -1.0000, -1.0000,\n",
      "          -1.0000, -1.0000, -1.0000, -1.0000, -1.0000, -1.0000, -1.0000,\n",
      "          -1.0000, -0.8745, -0.2706,  0.9765,  0.9843,  0.4667, -1.0000,\n",
      "          -1.0000, -1.0000, -1.0000, -1.0000, -1.0000, -1.0000, -1.0000],\n",
      "         [-1.0000, -1.0000, -1.0000, -1.0000, -1.0000, -1.0000, -1.0000,\n",
      "          -1.0000, -1.0000, -1.0000, -1.0000, -1.0000, -1.0000, -1.0000,\n",
      "          -1.0000, -1.0000, -1.0000,  0.9529,  0.9843,  0.9529, -0.4980,\n",
      "          -1.0000, -1.0000, -1.0000, -1.0000, -1.0000, -1.0000, -1.0000],\n",
      "         [-1.0000, -1.0000, -1.0000, -1.0000, -1.0000, -1.0000, -1.0000,\n",
      "          -1.0000, -1.0000, -1.0000, -1.0000, -1.0000, -1.0000, -1.0000,\n",
      "          -0.6392,  0.0196,  0.4353,  0.9843,  0.9843,  0.6235, -0.9843,\n",
      "          -1.0000, -1.0000, -1.0000, -1.0000, -1.0000, -1.0000, -1.0000],\n",
      "         [-1.0000, -1.0000, -1.0000, -1.0000, -1.0000, -1.0000, -1.0000,\n",
      "          -1.0000, -1.0000, -1.0000, -1.0000, -1.0000, -0.6941,  0.1608,\n",
      "           0.7961,  0.9843,  0.9843,  0.9843,  0.9608,  0.4275, -1.0000,\n",
      "          -1.0000, -1.0000, -1.0000, -1.0000, -1.0000, -1.0000, -1.0000],\n",
      "         [-1.0000, -1.0000, -1.0000, -1.0000, -1.0000, -1.0000, -1.0000,\n",
      "          -1.0000, -1.0000, -1.0000, -0.8118, -0.1059,  0.7333,  0.9843,\n",
      "           0.9843,  0.9843,  0.9843,  0.5765, -0.3882, -1.0000, -1.0000,\n",
      "          -1.0000, -1.0000, -1.0000, -1.0000, -1.0000, -1.0000, -1.0000],\n",
      "         [-1.0000, -1.0000, -1.0000, -1.0000, -1.0000, -1.0000, -1.0000,\n",
      "          -1.0000, -0.8196, -0.4824,  0.6706,  0.9843,  0.9843,  0.9843,\n",
      "           0.9843,  0.5529, -0.3647, -0.9843, -1.0000, -1.0000, -1.0000,\n",
      "          -1.0000, -1.0000, -1.0000, -1.0000, -1.0000, -1.0000, -1.0000],\n",
      "         [-1.0000, -1.0000, -1.0000, -1.0000, -1.0000, -1.0000, -0.8588,\n",
      "           0.3412,  0.7176,  0.9843,  0.9843,  0.9843,  0.9843,  0.5294,\n",
      "          -0.3725, -0.9294, -1.0000, -1.0000, -1.0000, -1.0000, -1.0000,\n",
      "          -1.0000, -1.0000, -1.0000, -1.0000, -1.0000, -1.0000, -1.0000],\n",
      "         [-1.0000, -1.0000, -1.0000, -1.0000, -0.5686,  0.3490,  0.7725,\n",
      "           0.9843,  0.9843,  0.9843,  0.9843,  0.9137,  0.0431, -0.9137,\n",
      "          -1.0000, -1.0000, -1.0000, -1.0000, -1.0000, -1.0000, -1.0000,\n",
      "          -1.0000, -1.0000, -1.0000, -1.0000, -1.0000, -1.0000, -1.0000],\n",
      "         [-1.0000, -1.0000, -1.0000, -1.0000,  0.0667,  0.9843,  0.9843,\n",
      "           0.9843,  0.6627,  0.0588,  0.0353, -0.8745, -1.0000, -1.0000,\n",
      "          -1.0000, -1.0000, -1.0000, -1.0000, -1.0000, -1.0000, -1.0000,\n",
      "          -1.0000, -1.0000, -1.0000, -1.0000, -1.0000, -1.0000, -1.0000],\n",
      "         [-1.0000, -1.0000, -1.0000, -1.0000, -1.0000, -1.0000, -1.0000,\n",
      "          -1.0000, -1.0000, -1.0000, -1.0000, -1.0000, -1.0000, -1.0000,\n",
      "          -1.0000, -1.0000, -1.0000, -1.0000, -1.0000, -1.0000, -1.0000,\n",
      "          -1.0000, -1.0000, -1.0000, -1.0000, -1.0000, -1.0000, -1.0000],\n",
      "         [-1.0000, -1.0000, -1.0000, -1.0000, -1.0000, -1.0000, -1.0000,\n",
      "          -1.0000, -1.0000, -1.0000, -1.0000, -1.0000, -1.0000, -1.0000,\n",
      "          -1.0000, -1.0000, -1.0000, -1.0000, -1.0000, -1.0000, -1.0000,\n",
      "          -1.0000, -1.0000, -1.0000, -1.0000, -1.0000, -1.0000, -1.0000],\n",
      "         [-1.0000, -1.0000, -1.0000, -1.0000, -1.0000, -1.0000, -1.0000,\n",
      "          -1.0000, -1.0000, -1.0000, -1.0000, -1.0000, -1.0000, -1.0000,\n",
      "          -1.0000, -1.0000, -1.0000, -1.0000, -1.0000, -1.0000, -1.0000,\n",
      "          -1.0000, -1.0000, -1.0000, -1.0000, -1.0000, -1.0000, -1.0000]]]), 5)\n"
     ]
    }
   ],
   "source": [
    "# check size of data set\n",
    "\n",
    "print(len(train_dataset))\n",
    "print(train_dataset[0])"
   ]
  },
  {
   "cell_type": "markdown",
   "metadata": {},
   "source": [
    "How the data looks like:"
   ]
  },
  {
   "cell_type": "code",
   "execution_count": 5,
   "metadata": {},
   "outputs": [
    {
     "data": {
      "image/png": "[encoded data removed]",
      "text/plain": [
       "<Figure size 1000x500 with 4 Axes>"
      ]
     },
     "metadata": {},
     "output_type": "display_data"
    }
   ],
   "source": [
    "# Get a batch of images and labels\n",
    "images, labels = next(iter(test_loader))\n",
    "\n",
    "# Plot the first 4 images\n",
    "plt.figure(figsize=(10, 5))\n",
    "for i in range(4):\n",
    "    plt.subplot(2, 5, i + 1)\n",
    "    plt.imshow(images[i].numpy().squeeze(), cmap='gray')\n",
    "    plt.title(f'Label: {labels[i].item()}')\n",
    "    plt.axis('off')\n",
    "plt.tight_layout()\n",
    "plt.show()"
   ]
  },
  {
   "cell_type": "markdown",
   "metadata": {},
   "source": [
    "### 2. Build a simple model\n",
    "\n",
    "The structure of adding layers / building block of networkds are always the same.\n",
    "\n",
    "In `__init__`  the network is initialized. Layers and their sizes can be added:\n",
    "\n",
    "* `nn.Linear(input_features, output_features)` class in PyTorch is used to create a fully connected (dense) layer in a neural network.\n",
    "   <br> The size of output features must match the number of class labels.\n",
    "\n",
    "* here a linear transformation is performed: $y=xW^T +b$ where\n",
    "  <br> $y$ is the output, <br> $x$ is the input, <br> $W$ is the weight matrix (learned parameters), <br> $b$ is the bias vector (also learned parameters).\n",
    "\n",
    "* other options are: `nn.Conv1d`, `nn.Conv2d`, `nn.RNN`, `nn.MaxPool2d`, `nn.Sigmoid`, `nn.Dropout` etc. (See Basics II)\n",
    "\n",
    "* hidden layers use more dimensions and the dimension of the final output is reduced in the last layer.\n",
    "\n",
    "`forward()` defines what happens during the forward pass through the network. The input tensor is propagated through all layers.\n",
    "* flatten image: dense layers require a 1D input, our dataset is 2D\n",
    "* activation functions of each , other options: `torch.sigmoid`, `torch.tanh` etc.\n",
    "* return output layer\n",
    "\n",
    "Note: Without the activation functions, any concatenation of linear layers is the same as just one layer.\n",
    "\n"
   ]
  },
  {
   "cell_type": "code",
   "execution_count": 6,
   "metadata": {},
   "outputs": [
    {
     "name": "stdout",
     "output_type": "stream",
     "text": [
      "SimpleDNN(\n",
      "  (fc1): Linear(in_features=784, out_features=128, bias=True)\n",
      "  (fc2): Linear(in_features=128, out_features=64, bias=True)\n",
      "  (fc3): Linear(in_features=64, out_features=10, bias=True)\n",
      ")\n"
     ]
    }
   ],
   "source": [
    "class SimpleDNN(nn.Module):\n",
    "    def __init__(self):\n",
    "        super(SimpleDNN, self).__init__()\n",
    "        self.fc1 = nn.Linear(28 * 28, 128)  # Input layer to hidden layer\n",
    "        self.fc2 = nn.Linear(128, 64)        # Hidden layer to hidden layer\n",
    "        self.fc3 = nn.Linear(64, 10)         # Hidden layer to output layer\n",
    "\n",
    "    def forward(self, x):\n",
    "        x = x.view(-1, 28 * 28)  # Flatten the image\n",
    "        x = torch.relu(self.fc1(x))  # Activation function \n",
    "        x = torch.relu(self.fc2(x))  # Activation function\n",
    "        x = self.fc3(x)               # Output layer\n",
    "        return x\n",
    "\n",
    "model = SimpleDNN().to(device)\n",
    "print(model)"
   ]
  },
  {
   "cell_type": "markdown",
   "metadata": {},
   "source": [
    "### 3. Train the model\n",
    "\n",
    "Here we use Cross Entropy as loss function and the **Adam optimizer**. **Optimizer**, **learning rate**, **loss function**, and **number of epochs** can be adapted.\n",
    "\n",
    "important settings:\n",
    "<br> `optimizer.zero_grad()`: set gradients to zero because gradients are accumulated by default in pytorch\n",
    "<br> `outputs = model(images)`: activations for each layer are calculated\n",
    "<br> `loss.backward() `: computation of loss gradients. Weights are adjusted to minimize loss for next interactions.\n",
    "\n"
   ]
  },
  {
   "cell_type": "code",
   "execution_count": 13,
   "metadata": {},
   "outputs": [
    {
     "name": "stdout",
     "output_type": "stream",
     "text": [
      "Epoch 1, Loss: 0.05784850364106882\n",
      "Epoch 2, Loss: 0.053421434276535715\n",
      "Epoch 3, Loss: 0.048714079383163966\n",
      "Epoch 4, Loss: 0.04622513736495927\n",
      "Epoch 5, Loss: 0.04177218534140242\n"
     ]
    }
   ],
   "source": [
    "# Define loss function and optimizer\n",
    "criterion = nn.CrossEntropyLoss()\n",
    "optimizer = optim.Adam(model.parameters(), lr=0.001)\n",
    "\n",
    "# Training the model\n",
    "def train(model, train_loader, criterion, optimizer, epochs=5):\n",
    "    model = model.to(device)\n",
    "    model.train()\n",
    "    for epoch in range(epochs):\n",
    "        running_loss = 0.0 # set current loss to 0\n",
    "        for images, labels in train_loader: #iterate over batches of training images\n",
    "            images, labels = images.to(device), labels.to(device) # move images and labels to correct device\n",
    "            optimizer.zero_grad()  # Zero the gradients\n",
    "            outputs = model(images)  # Forward pass of input data\n",
    "            loss = criterion(outputs, labels)  # Calculate loss\n",
    "            loss.backward()  # Backward pass\n",
    "            optimizer.step()  # Update weights\n",
    "            running_loss += loss.item() #accumulate loss of current epoch\n",
    "        print(f'Epoch {epoch + 1}, Loss: {running_loss / len(train_loader)}')\n",
    "    return running_loss / len(train_loader)\n",
    "\n",
    "_ = train(model, train_loader, criterion, optimizer, epochs=5)\n"
   ]
  },
  {
   "cell_type": "code",
   "execution_count": null,
   "metadata": {},
   "outputs": [
    {
     "name": "stdout",
     "output_type": "stream",
     "text": [
      "Epoch 1, Loss: 0.4117610675376107\n",
      "Epoch 2, Loss: 0.19093517975798294\n",
      "Epoch 3, Loss: 0.1388328415411177\n",
      "Epoch 4, Loss: 0.11655302597845255\n",
      "Epoch 5, Loss: 0.09954068733792283\n",
      "Epoch 1, Loss: 0.38717292576456375\n",
      "Epoch 2, Loss: 0.17512581596917498\n",
      "Epoch 3, Loss: 0.12970541773645927\n",
      "Epoch 4, Loss: 0.1072423346117258\n",
      "Epoch 5, Loss: 0.09149776324868075\n",
      "Epoch 1, Loss: 0.3914807524039611\n",
      "Epoch 2, Loss: 0.17227964706496515\n",
      "Epoch 3, Loss: 0.126566064954082\n",
      "Epoch 4, Loss: 0.10535544003876271\n",
      "Epoch 5, Loss: 0.0910807008326832\n"
     ]
    }
   ],
   "source": []
  },
  {
   "cell_type": "markdown",
   "metadata": {},
   "source": [
    "\n",
    "The loss decreases with the training epochs. Let's evaluate the model in more detail.\n",
    "\n",
    "### 4. Evaluate the  model\n",
    "\n",
    "The model is evaluated on the test set to ensure unbiased model evaluation and prevent overfitting, allowing for accurate assessments of the model's ability to generalize to unseen data.\n",
    "\n",
    "In some cases, a third set, the validation set, is required for independent model evaluation. It is used for optimizing hyperparameters on unseen data. The final performance is then tested on the test set.\n",
    "\n",
    "\n",
    "\n",
    " Note the following:\n",
    "\n",
    "* `model.eval()`: evaluation of model\n",
    "* `torch.no_grad()`: disable gradient computation to save memory usage & speed up computation (only needed for training)\n"
   ]
  },
  {
   "cell_type": "code",
   "execution_count": 7,
   "metadata": {},
   "outputs": [
    {
     "name": "stdout",
     "output_type": "stream",
     "text": [
      "Accuracy: 97.08%\n"
     ]
    }
   ],
   "source": [
    "def evaluate(model, test_loader):\n",
    "    model = model.to(device)\n",
    "    model.eval()\n",
    "    correct = 0 #keep track of correct predictions\n",
    "    total = 0 # total number\n",
    "    with torch.no_grad():\n",
    "        for images, labels in test_loader: # loop over all data in test set\n",
    "            images, labels = images.to(device), labels.to(device)\n",
    "            outputs = model(images) # Forward pass of input data\n",
    "            _, predicted = torch.max(outputs.data, 1) # find index of maximum value in outputs\n",
    "            total += labels.size(0)\n",
    "            correct += (predicted == labels).sum().item()\n",
    "    print(f'Accuracy: {100 * correct / total:.2f}%')\n",
    "    return correct / total\n",
    "\n",
    "_ = evaluate(model, test_loader)\n"
   ]
  },
  {
   "cell_type": "markdown",
   "metadata": {},
   "source": [
    "### 5. Make a prediction\n",
    "\n",
    "\n",
    "Here we make a prediction of an unknown image with a trained model."
   ]
  },
  {
   "cell_type": "code",
   "execution_count": 8,
   "metadata": {},
   "outputs": [
    {
     "data": {
      "image/png": "[encoded data removed]",
      "text/plain": [
       "<Figure size 1000x500 with 10 Axes>"
      ]
     },
     "metadata": {},
     "output_type": "display_data"
    }
   ],
   "source": [
    "def plot_predictions(model, data_loader):\n",
    "    model = model.to(device)\n",
    "    model.eval()\n",
    "    \n",
    "    # Get a batch of images and labels\n",
    "    images, labels = next(iter(data_loader))\n",
    "    \n",
    "    # Move images to the same device as the model\n",
    "    images = images.to(device)  # Ensure images are on the same device (GPU/CPU)\n",
    "    \n",
    "    # Forward pass through the model\n",
    "    outputs = model(images)\n",
    "    \n",
    "    # Get the predicted class for each image\n",
    "    _, predicted = torch.max(outputs.data, 1)  # Max value index -> class\n",
    "    \n",
    "    # Move images and labels back to CPU for plotting\n",
    "    images = images.cpu()  # Move images back to CPU for matplotlib\n",
    "    predicted = predicted.cpu()  # Also move predictions to CPU for displaying\n",
    "\n",
    "    # Plot the first 10 images and their predictions\n",
    "    plt.figure(figsize=(10, 5))\n",
    "    for i in range(10):\n",
    "        plt.subplot(2, 5, i + 1)\n",
    "        plt.imshow(images[i].numpy().squeeze(), cmap='gray')  # Convert to NumPy after moving to CPU\n",
    "        plt.title(f'Pred: {predicted[i].item()}')\n",
    "        plt.axis('off')\n",
    "    plt.show()\n",
    "\n",
    "# Call the function to plot predictions\n",
    "plot_predictions(model, test_loader)"
   ]
  },
  {
   "cell_type": "markdown",
   "metadata": {},
   "source": [
    "Some digits do look very similar in handwriting, which leads to potential misclassifications.\n",
    "\n",
    "After understanding building blocks of a neural network, it is now your turn:\n",
    "\n",
    "## Exercise 1: Modify the Neural Network Architecture\n",
    "\n",
    "Your task is to adapt and optimize a neural network for classifying handwritten digits using the MNIST dataset. You will be required to make modifications to the existing model architecture, training process, and evaluation techniques to improve performance.\n",
    "\n",
    "a) Add an additional hidden layer to the existing model. Experiment with different numbers of neurons in the new layer (e.g., 128, 256) and see how it affects performance.\n",
    "\n",
    "b)  Introduce an activation function other than ReLU for one of the hidden layers (e.g., Leaky ReLU, Tanh). Compare it to the original ReLu in terms of training performance.\n",
    "\n",
    "Note: Ensure you have the MNIST dataset loaded and a basic neural network model defined. You can start with a simple feedforward neural network architecture.\n",
    "\n"
   ]
  },
  {
   "cell_type": "markdown",
   "metadata": {},
   "source": [
    "a)"
   ]
  },
  {
   "cell_type": "code",
   "execution_count": 21,
   "metadata": {},
   "outputs": [
    {
     "name": "stdout",
     "output_type": "stream",
     "text": [
      "Epoch 1, Loss: 0.43862624806381745\n",
      "Epoch 2, Loss: 0.2014552397307938\n",
      "Epoch 3, Loss: 0.14510529611541678\n",
      "Epoch 4, Loss: 0.11888360568006505\n",
      "Epoch 5, Loss: 0.1023036576221699\n",
      "Epoch 1, Loss: 0.3947808648159763\n",
      "Epoch 2, Loss: 0.18356770160856214\n",
      "Epoch 3, Loss: 0.13144442355975128\n",
      "Epoch 4, Loss: 0.10892261058039494\n",
      "Epoch 5, Loss: 0.09060406571786318\n",
      "Epoch 1, Loss: 0.3618088863106933\n",
      "Epoch 2, Loss: 0.16213059535762395\n",
      "Epoch 3, Loss: 0.1237965666953085\n",
      "Epoch 4, Loss: 0.1009506546973642\n",
      "Epoch 5, Loss: 0.08859755124386424\n"
     ]
    }
   ],
   "source": [
    "accuracies = []\n",
    "rlosses = []\n",
    "for n_neurons in [64, 128, 256]:\n",
    "\n",
    "    class SimpleDNN_hiddenlayer(nn.Module):\n",
    "        def __init__(self):\n",
    "            super(SimpleDNN_hiddenlayer, self).__init__()\n",
    "            self.fc1 = nn.Linear(28 * 28, 128)  # Input layer to hidden layer\n",
    "            self.fc2 = nn.Linear(128, n_neurons)        # Hidden layer to hidden layer\n",
    "            self.fc3 = nn.Linear(n_neurons, 64)        # Hidden layer to hidden layer\n",
    "            self.fc4 = nn.Linear(64, 10)         # Hidden layer to output layer\n",
    "\n",
    "        def forward(self, x):\n",
    "            x = x.view(-1, 28 * 28)  # Flatten the image\n",
    "            x = torch.relu(self.fc1(x))  # Activation function \n",
    "            x = torch.relu(self.fc2(x))  # Activation function\n",
    "            x = torch.relu(self.fc3(x))  # Activation function\n",
    "            x = self.fc4(x)               # Output layer\n",
    "            return x\n",
    "        \n",
    "    model_hiddenlayer = SimpleDNN_hiddenlayer().to(device)\n",
    "        \n",
    "    criterion = nn.CrossEntropyLoss()\n",
    "    optimizer = optim.Adam(model_hiddenlayer.parameters(), lr=0.001)\n",
    "        \n",
    "    # Training the model\n",
    "    def train(model, train_loader, criterion, optimizer, epochs=5):\n",
    "        model = model.to(device)\n",
    "        model.train()\n",
    "        for epoch in range(epochs):\n",
    "            running_loss = 0.0 # set current loss to 0\n",
    "            for images, labels in train_loader: #iterate over batches of training images\n",
    "                images, labels = images.to(device), labels.to(device) # move images and labels to correct device\n",
    "                optimizer.zero_grad()  # Zero the gradients\n",
    "                outputs = model(images)  # Forward pass of input data\n",
    "                loss = criterion(outputs, labels)  # Calculate loss\n",
    "                loss.backward()  # Backward pass\n",
    "                optimizer.step()  # Update weights\n",
    "                running_loss += loss.item() #accumulate loss of current epoch\n",
    "            print(f'Epoch {epoch + 1}, Loss: {running_loss / len(train_loader)}')\n",
    "        return running_loss / len(train_loader)\n",
    "\n",
    "    rlosses.append(train(model_hiddenlayer, train_loader, criterion, optimizer, epochs=5))"
   ]
  },
  {
   "cell_type": "code",
   "execution_count": 22,
   "metadata": {},
   "outputs": [
    {
     "name": "stdout",
     "output_type": "stream",
     "text": [
      "n_neurons: 64 \t loss after 5 epochs: 0.10\n",
      "n_neurons: 128 \t loss after 5 epochs: 0.09\n",
      "n_neurons: 256 \t loss after 5 epochs: 0.09\n"
     ]
    }
   ],
   "source": [
    "for n, rl in zip([64, 128, 256], rlosses):\n",
    "    print(\"n_neurons: %i \\t loss after 5 epochs: %.2f\" % (n, rl))"
   ]
  },
  {
   "cell_type": "markdown",
   "metadata": {},
   "source": [
    "b) Add `tanh` to newest hidden layer"
   ]
  },
  {
   "cell_type": "code",
   "execution_count": 23,
   "metadata": {},
   "outputs": [
    {
     "name": "stdout",
     "output_type": "stream",
     "text": [
      "Epoch 1, Loss: 0.3759681136210336\n",
      "Epoch 2, Loss: 0.16005328500361393\n",
      "Epoch 3, Loss: 0.12127689742393839\n",
      "Epoch 4, Loss: 0.10313062862242892\n",
      "Epoch 5, Loss: 0.0899800119220591\n",
      "Epoch 1, Loss: 0.3636674901355368\n",
      "Epoch 2, Loss: 0.15287017240834389\n",
      "Epoch 3, Loss: 0.11543433807903468\n",
      "Epoch 4, Loss: 0.09838178469988107\n",
      "Epoch 5, Loss: 0.08267183563679949\n",
      "Epoch 1, Loss: 0.3329804401332413\n",
      "Epoch 2, Loss: 0.14980949990765086\n",
      "Epoch 3, Loss: 0.11572370036785155\n",
      "Epoch 4, Loss: 0.0960322697244799\n",
      "Epoch 5, Loss: 0.0836090281985994\n"
     ]
    }
   ],
   "source": [
    "accuracies = []\n",
    "rlosses = []\n",
    "for n_neurons in [64, 128, 256]:\n",
    "\n",
    "    class SimpleDNN_hiddenlayer(nn.Module):\n",
    "        def __init__(self):\n",
    "            super(SimpleDNN_hiddenlayer, self).__init__()\n",
    "            self.fc1 = nn.Linear(28 * 28, 128)  # Input layer to hidden layer\n",
    "            self.fc2 = nn.Linear(128, n_neurons)        # Hidden layer to hidden layer\n",
    "            self.fc3 = nn.Linear(n_neurons, 64)        # Hidden layer to hidden layer\n",
    "            self.fc4 = nn.Linear(64, 10)         # Hidden layer to output layer\n",
    "\n",
    "        def forward(self, x):\n",
    "            x = x.view(-1, 28 * 28)  # Flatten the image\n",
    "            x = torch.relu(self.fc1(x))  # Activation function \n",
    "            x = torch.tanh(self.fc2(x))  # Activation function\n",
    "            x = torch.relu(self.fc3(x))  # Activation function\n",
    "            x = self.fc4(x)               # Output layer\n",
    "            return x\n",
    "        \n",
    "    model_hiddenlayer = SimpleDNN_hiddenlayer().to(device)\n",
    "        \n",
    "    criterion = nn.CrossEntropyLoss()\n",
    "    optimizer = optim.Adam(model_hiddenlayer.parameters(), lr=0.001)\n",
    "        \n",
    "    # Training the model\n",
    "    def train(model, train_loader, criterion, optimizer, epochs=5):\n",
    "        model = model.to(device)\n",
    "        model.train()\n",
    "        for epoch in range(epochs):\n",
    "            running_loss = 0.0 # set current loss to 0\n",
    "            for images, labels in train_loader: #iterate over batches of training images\n",
    "                images, labels = images.to(device), labels.to(device) # move images and labels to correct device\n",
    "                optimizer.zero_grad()  # Zero the gradients\n",
    "                outputs = model(images)  # Forward pass of input data\n",
    "                loss = criterion(outputs, labels)  # Calculate loss\n",
    "                loss.backward()  # Backward pass\n",
    "                optimizer.step()  # Update weights\n",
    "                running_loss += loss.item() #accumulate loss of current epoch\n",
    "            print(f'Epoch {epoch + 1}, Loss: {running_loss / len(train_loader)}')\n",
    "        return running_loss / len(train_loader)\n",
    "\n",
    "    rlosses.append(train(model_hiddenlayer, train_loader, criterion, optimizer, epochs=5))"
   ]
  },
  {
   "cell_type": "code",
   "execution_count": 24,
   "metadata": {},
   "outputs": [
    {
     "name": "stdout",
     "output_type": "stream",
     "text": [
      "n_neurons: 64 \t loss after 5 epochs: 0.09\n",
      "n_neurons: 128 \t loss after 5 epochs: 0.08\n",
      "n_neurons: 256 \t loss after 5 epochs: 0.08\n"
     ]
    }
   ],
   "source": [
    "for n, rl in zip([64, 128, 256], rlosses):\n",
    "    print(\"n_neurons: %i \\t loss after 5 epochs: %.2f\" % (n, rl))"
   ]
  },
  {
   "cell_type": "markdown",
   "metadata": {},
   "source": [
    "### Exercise 2: Evaluate the model performance\n",
    "\n",
    "After training, evaluate your model on the test dataset and report the accuracy.\n",
    "\n",
    "Generate a confusion matrix to visualize the model's performance on each digit class.\n",
    "Plot some example predictions alongside their true labels and analyze any misclassifications.\n",
    "\n",
    "(Subtask: Discuss possible reasons for misclassifications and suggest potential improvements. )"
   ]
  },
  {
   "cell_type": "code",
   "execution_count": 26,
   "metadata": {},
   "outputs": [
    {
     "name": "stdout",
     "output_type": "stream",
     "text": [
      "Accuracy: 97.42%\n"
     ]
    }
   ],
   "source": [
    "def evaluate(model, test_loader):\n",
    "    model = model.to(device)\n",
    "    model.eval()\n",
    "    correct = 0 #keep track of correct predictions\n",
    "    total = 0 # total number\n",
    "    with torch.no_grad():\n",
    "        for images, labels in test_loader: # loop over all data in test set\n",
    "            images, labels = images.to(device), labels.to(device)\n",
    "            outputs = model(images) # Forward pass of input data\n",
    "            _, predicted = torch.max(outputs.data, 1) # find index of maximum value in outputs\n",
    "            total += labels.size(0)\n",
    "            correct += (predicted == labels).sum().item()\n",
    "    print(f'Accuracy: {100 * correct / total:.2f}%')\n",
    "    return correct / total\n",
    "\n",
    "_ = evaluate(model_hiddenlayer, test_loader)"
   ]
  },
  {
   "cell_type": "code",
   "execution_count": null,
   "metadata": {},
   "outputs": [
    {
     "data": {
      "text/plain": [
       "<Figure size 800x600 with 0 Axes>"
      ]
     },
     "metadata": {},
     "output_type": "display_data"
    },
    {
     "data": {
      "image/png": "[encoded data removed]",
      "text/plain": [
       "<Figure size 640x480 with 2 Axes>"
      ]
     },
     "metadata": {},
     "output_type": "display_data"
    }
   ],
   "source": [
    "import matplotlib.pyplot as plt\n",
    "from sklearn.metrics import confusion_matrix, ConfusionMatrixDisplay\n",
    "\n",
    "def plot_confusion_matrix(model, dataloader, class_names):\n",
    "    model.eval()  # Set model to evaluation mode\n",
    "    all_preds = []\n",
    "    all_labels = []\n",
    "\n",
    "    with torch.no_grad():\n",
    "        for inputs, labels in dataloader:\n",
    "            inputs, labels = inputs.to(device), labels.to(device)\n",
    "            outputs = model(inputs)\n",
    "            _, preds = torch.max(outputs, 1)\n",
    "            all_preds.extend(preds.cpu().numpy())\n",
    "            all_labels.extend(labels.cpu().numpy())\n",
    "\n",
    "    # Compute confusion matrix\n",
    "    cm = confusion_matrix(all_labels, all_preds)\n",
    "    disp = ConfusionMatrixDisplay(confusion_matrix=cm, display_labels=class_names)\n",
    "\n",
    "    # Plot confusion matrix\n",
    "    plt.figure(figsize=(8, 6))\n",
    "    disp.plot(cmap=plt.cm.Blues, values_format='d')\n",
    "    plt.title(\"Confusion Matrix\")\n",
    "    plt.xlabel(\"Predicted Label\")\n",
    "    plt.ylabel(\"True Label\")\n",
    "    plt.show()\n",
    "    \n",
    "class_names = [\"%i\" % i for i in range(10)]\n",
    "plot_confusion_matrix(model_hiddenlayer, test_loader, class_names=class_names)\n"
   ]
  },
  {
   "cell_type": "markdown",
   "metadata": {},
   "source": [
    "### Exercise 3: Optimize the Training Process\n",
    "\n",
    "Experiment with different optimizers (e.g., Adam, SGD, RMSprop).\n",
    "\n",
    "Compare the training time and final accuracy for each optimizer and provide a brief analysis of your findings.\n"
   ]
  },
  {
   "cell_type": "markdown",
   "metadata": {},
   "source": [
    "* Adam:\n",
    "\n",
    "Training Time: Usually slower than SGD but faster than RMSprop due to its adaptive learning rate properties.\n",
    "Accuracy: Often achieves the best or near-best accuracy in a limited number of epochs due to its efficient parameter updates.\n",
    "\n",
    "* SGD:\n",
    "\n",
    "Training Time: Generally, the fastest optimizer but can struggle with convergence or achieving high accuracy without additional techniques like momentum or learning rate scheduling.\n",
    "Accuracy: May lag behind other optimizers in terms of final accuracy since it uses a constant learning rate.\n",
    "\n",
    "* RMSprop:\n",
    "\n",
    "Training Time: Often in between Adam and SGD due to its adaptive learning rate properties similar to Adam.\n",
    "Accuracy: Typically performs better than SGD but may not always surpass Adam, especially for simple networks like the one used here.\n"
   ]
  },
  {
   "cell_type": "code",
   "execution_count": 29,
   "metadata": {},
   "outputs": [],
   "source": [
    "import time"
   ]
  },
  {
   "cell_type": "code",
   "execution_count": 30,
   "metadata": {},
   "outputs": [
    {
     "name": "stdout",
     "output_type": "stream",
     "text": [
      "Epoch 1, Loss: 0.34739136141635524\n",
      "Epoch 2, Loss: 0.1515897123127191\n",
      "Epoch 3, Loss: 0.1147314032484124\n",
      "Epoch 4, Loss: 0.09458422369044671\n",
      "Epoch 5, Loss: 0.08029363151224675\n",
      "Accuracy: 97.12%\n",
      "Epoch 1, Loss: 2.267392886981273\n",
      "Epoch 2, Loss: 2.1686928549300886\n",
      "Epoch 3, Loss: 1.9711179214754084\n",
      "Epoch 4, Loss: 1.6265591030944384\n",
      "Epoch 5, Loss: 1.2621778726959025\n",
      "Accuracy: 73.06%\n",
      "Epoch 1, Loss: 0.38144016861995017\n",
      "Epoch 2, Loss: 0.1707927410774775\n",
      "Epoch 3, Loss: 0.13065619710167603\n",
      "Epoch 4, Loss: 0.10679776940856185\n",
      "Epoch 5, Loss: 0.09031284478173326\n",
      "Accuracy: 96.51%\n"
     ]
    }
   ],
   "source": [
    "accuracies = []\n",
    "rlosses = []\n",
    "times = []\n",
    "optimizers = [\"Adam\", \"SGD\", \"RMSProp\"]\n",
    "for opt in optimizers:    \n",
    "        \n",
    "    model_hiddenlayer = SimpleDNN_hiddenlayer().to(device)\n",
    "        \n",
    "    criterion = nn.CrossEntropyLoss()\n",
    "\n",
    "    if opt == \"Adam\":\n",
    "        optimizer = optim.Adam(model_hiddenlayer.parameters(), lr=0.001)\n",
    "    elif opt == \"SGD\":\n",
    "        optimizer = optim.SGD(model_hiddenlayer.parameters(), lr=0.001)\n",
    "    elif opt == \"RMSProp\":\n",
    "        optimizer = optim.RMSprop(model_hiddenlayer.parameters(), lr=0.001)\n",
    "        \n",
    "    start_time = time.time()\n",
    "\n",
    "    rlosses.append(train(model_hiddenlayer, train_loader, criterion, optimizer, epochs=5))\n",
    "    times.append(time.time() - start_time)\n",
    "    accuracies.append(evaluate(model_hiddenlayer, test_loader))"
   ]
  },
  {
   "cell_type": "code",
   "execution_count": 31,
   "metadata": {},
   "outputs": [
    {
     "name": "stdout",
     "output_type": "stream",
     "text": [
      "Adam \t time: 36.89s \t acc: 0.97\n",
      "SGD \t time: 26.62s \t acc: 0.73\n",
      "RMSProp \t time: 33.08s \t acc: 0.97\n"
     ]
    }
   ],
   "source": [
    "for opt, t, acc in zip(optimizers, times, accuracies):\n",
    "    print(\"%s \\t time: %.2fs \\t acc: %.2f\" % (opt, t, acc))"
   ]
  },
  {
   "cell_type": "code",
   "execution_count": null,
   "metadata": {},
   "outputs": [],
   "source": []
  }
 ],
 "metadata": {
  "kernelspec": {
   "display_name": "TAML",
   "language": "python",
   "name": "python3"
  },
  "language_info": {
   "codemirror_mode": {
    "name": "ipython",
    "version": 3
   },
   "file_extension": ".py",
   "mimetype": "text/x-python",
   "name": "python",
   "nbconvert_exporter": "python",
   "pygments_lexer": "ipython3",
   "version": "3.10.16"
  }
 },
 "nbformat": 4,
 "nbformat_minor": 2
}
